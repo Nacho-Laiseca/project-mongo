{
 "cells": [
  {
   "cell_type": "code",
   "execution_count": 1,
   "metadata": {},
   "outputs": [],
   "source": [
    "import pandas as pd\n",
    "from pymongo import MongoClient"
   ]
  },
  {
   "cell_type": "code",
   "execution_count": 2,
   "metadata": {},
   "outputs": [],
   "source": [
    "client = MongoClient(\"mongodb://localhost:27017/\")\n",
    "db = client.datamad0819 "
   ]
  },
  {
   "cell_type": "code",
   "execution_count": 12,
   "metadata": {},
   "outputs": [
    {
     "data": {
      "text/html": [
       "<div>\n",
       "<style scoped>\n",
       "    .dataframe tbody tr th:only-of-type {\n",
       "        vertical-align: middle;\n",
       "    }\n",
       "\n",
       "    .dataframe tbody tr th {\n",
       "        vertical-align: top;\n",
       "    }\n",
       "\n",
       "    .dataframe thead th {\n",
       "        text-align: right;\n",
       "    }\n",
       "</style>\n",
       "<table border=\"1\" class=\"dataframe\">\n",
       "  <thead>\n",
       "    <tr style=\"text-align: right;\">\n",
       "      <th></th>\n",
       "      <th>name</th>\n",
       "      <th>category_code</th>\n",
       "      <th>city</th>\n",
       "      <th>Latitude</th>\n",
       "      <th>Longitude</th>\n",
       "      <th>position</th>\n",
       "    </tr>\n",
       "  </thead>\n",
       "  <tbody>\n",
       "    <tr>\n",
       "      <td>0</td>\n",
       "      <td>Geni</td>\n",
       "      <td>web</td>\n",
       "      <td>West Hollywood</td>\n",
       "      <td>34.090368</td>\n",
       "      <td>-118.393064</td>\n",
       "      <td>{'type': 'Point', 'coordinates': [-118.393064,...</td>\n",
       "    </tr>\n",
       "    <tr>\n",
       "      <td>1</td>\n",
       "      <td>Lala</td>\n",
       "      <td>games_video</td>\n",
       "      <td>Palo Alto</td>\n",
       "      <td>37.451151</td>\n",
       "      <td>-122.154369</td>\n",
       "      <td>{'type': 'Point', 'coordinates': [-122.154369,...</td>\n",
       "    </tr>\n",
       "    <tr>\n",
       "      <td>2</td>\n",
       "      <td>Joost</td>\n",
       "      <td>games_video</td>\n",
       "      <td>New York</td>\n",
       "      <td>40.746497</td>\n",
       "      <td>-74.009447</td>\n",
       "      <td>{'type': 'Point', 'coordinates': [-74.0094471,...</td>\n",
       "    </tr>\n",
       "    <tr>\n",
       "      <td>3</td>\n",
       "      <td>Gizmoz</td>\n",
       "      <td>web</td>\n",
       "      <td>Menlo Park</td>\n",
       "      <td>37.484130</td>\n",
       "      <td>-122.169472</td>\n",
       "      <td>{'type': 'Point', 'coordinates': [-122.169472,...</td>\n",
       "    </tr>\n",
       "    <tr>\n",
       "      <td>4</td>\n",
       "      <td>eBay</td>\n",
       "      <td>web</td>\n",
       "      <td>San Jose</td>\n",
       "      <td>37.295005</td>\n",
       "      <td>-121.930035</td>\n",
       "      <td>{'type': 'Point', 'coordinates': [-121.930035,...</td>\n",
       "    </tr>\n",
       "  </tbody>\n",
       "</table>\n",
       "</div>"
      ],
      "text/plain": [
       "     name category_code            city   Latitude   Longitude  \\\n",
       "0    Geni           web  West Hollywood  34.090368 -118.393064   \n",
       "1    Lala   games_video       Palo Alto  37.451151 -122.154369   \n",
       "2   Joost   games_video        New York  40.746497  -74.009447   \n",
       "3  Gizmoz           web      Menlo Park  37.484130 -122.169472   \n",
       "4    eBay           web        San Jose  37.295005 -121.930035   \n",
       "\n",
       "                                            position  \n",
       "0  {'type': 'Point', 'coordinates': [-118.393064,...  \n",
       "1  {'type': 'Point', 'coordinates': [-122.154369,...  \n",
       "2  {'type': 'Point', 'coordinates': [-74.0094471,...  \n",
       "3  {'type': 'Point', 'coordinates': [-122.169472,...  \n",
       "4  {'type': 'Point', 'coordinates': [-121.930035,...  "
      ]
     },
     "metadata": {},
     "output_type": "display_data"
    },
    {
     "name": "stdout",
     "output_type": "stream",
     "text": [
      "(3428, 6)\n"
     ]
    }
   ],
   "source": [
    "project = {\"_id\":0}\n",
    "\n",
    "locations = db.locations.find()\n",
    "data = pd.DataFrame(locations)\n",
    "data = data.drop(\"_id\", axis=1)\n",
    "locations = data.rename(columns={\"lat\":\"Latitude\",\"long\":\"Longitude\"})\n",
    "display(locations.head())\n",
    "print(locations.shape)"
   ]
  },
  {
   "cell_type": "code",
   "execution_count": 14,
   "metadata": {},
   "outputs": [],
   "source": [
    "def getCoords(lat,long):\n",
    "    coords = []\n",
    "    for x,y in zip(lat,long):\n",
    "        coords.append((x,y))\n",
    "    return coords"
   ]
  },
  {
   "cell_type": "code",
   "execution_count": 26,
   "metadata": {},
   "outputs": [
    {
     "name": "stdout",
     "output_type": "stream",
     "text": [
      "[(34.090368, -118.393064), (37.451151, -122.154369), (40.7464969, -74.0094471), (37.48413, -122.169472), (37.295005, -121.930035), (37.387845, -122.055197), (37.779558, -122.393041), (40.724604, -73.996876), (38.926172, -77.245195), (34.0263021, -118.380954)]\n"
     ]
    }
   ],
   "source": [
    "coordinates = getCoords(locations[\"Latitude\"],locations[\"Longitude\"])\n",
    "print(coordinates[:10])"
   ]
  },
  {
   "cell_type": "code",
   "execution_count": 27,
   "metadata": {},
   "outputs": [],
   "source": [
    "def getCompaniesNear(lat,long, max_meters=1000):\n",
    "    x = list(db.locations.find({\n",
    "        \"position\": {\n",
    "            \"$near\": {\n",
    "               \"$geometry\": {\n",
    "                  \"type\": \"Point\" ,\n",
    "                  \"coordinates\": [ long , lat ]\n",
    "               },\n",
    "               \"$maxDistance\": max_meters\n",
    "             }\n",
    "       }\n",
    "    }))\n",
    "    return ((lat,long),len(x))"
   ]
  },
  {
   "cell_type": "code",
   "execution_count": 31,
   "metadata": {},
   "outputs": [],
   "source": [
    "list_coords = []\n",
    "for x in coordinates:\n",
    "    y = getCompaniesNear(x[0],x[1])\n",
    "    list_coords.append(y)"
   ]
  },
  {
   "cell_type": "code",
   "execution_count": 36,
   "metadata": {},
   "outputs": [],
   "source": [
    "def sort_by_count(arr):\n",
    "    return sorted(arr,key=lambda x: x[1],reverse=True)"
   ]
  },
  {
   "cell_type": "code",
   "execution_count": 37,
   "metadata": {},
   "outputs": [],
   "source": [
    "list_coords_final = sort_by_count(list_coords)"
   ]
  },
  {
   "cell_type": "code",
   "execution_count": 44,
   "metadata": {},
   "outputs": [],
   "source": [
    "def getCompanies(lat,long, max_meters=1000):\n",
    "    return list(db.locations.find({\n",
    "        \"position\": {\n",
    "            \"$near\": {\n",
    "               \"$geometry\": {\n",
    "                  \"type\": \"Point\" ,\n",
    "                  \"coordinates\": [ long , lat ]\n",
    "               },\n",
    "               \"$maxDistance\": max_meters\n",
    "             }\n",
    "       }\n",
    "    }))"
   ]
  },
  {
   "cell_type": "code",
   "execution_count": 45,
   "metadata": {},
   "outputs": [],
   "source": [
    "final_location = getCompanies(*x)"
   ]
  },
  {
   "cell_type": "code",
   "execution_count": 48,
   "metadata": {},
   "outputs": [],
   "source": [
    "final_location = pd.DataFrame(final_location)"
   ]
  },
  {
   "cell_type": "code",
   "execution_count": 50,
   "metadata": {},
   "outputs": [
    {
     "data": {
      "text/html": [
       "<div>\n",
       "<style scoped>\n",
       "    .dataframe tbody tr th:only-of-type {\n",
       "        vertical-align: middle;\n",
       "    }\n",
       "\n",
       "    .dataframe tbody tr th {\n",
       "        vertical-align: top;\n",
       "    }\n",
       "\n",
       "    .dataframe thead th {\n",
       "        text-align: right;\n",
       "    }\n",
       "</style>\n",
       "<table border=\"1\" class=\"dataframe\">\n",
       "  <thead>\n",
       "    <tr style=\"text-align: right;\">\n",
       "      <th></th>\n",
       "      <th>name</th>\n",
       "      <th>category_code</th>\n",
       "      <th>city</th>\n",
       "      <th>Latitude</th>\n",
       "      <th>Longitude</th>\n",
       "      <th>position</th>\n",
       "    </tr>\n",
       "  </thead>\n",
       "  <tbody>\n",
       "    <tr>\n",
       "      <td>0</td>\n",
       "      <td>ON24</td>\n",
       "      <td>web</td>\n",
       "      <td>San Francisco</td>\n",
       "      <td>37.785033</td>\n",
       "      <td>-122.400474</td>\n",
       "      <td>{'type': 'Point', 'coordinates': [-122.4004738...</td>\n",
       "    </tr>\n",
       "    <tr>\n",
       "      <td>1</td>\n",
       "      <td>Neocase Software</td>\n",
       "      <td>software</td>\n",
       "      <td>San Francisco</td>\n",
       "      <td>37.785655</td>\n",
       "      <td>-122.398393</td>\n",
       "      <td>{'type': 'Point', 'coordinates': [-122.398393,...</td>\n",
       "    </tr>\n",
       "    <tr>\n",
       "      <td>2</td>\n",
       "      <td>CITTIO</td>\n",
       "      <td>software</td>\n",
       "      <td>San Francisco</td>\n",
       "      <td>37.786761</td>\n",
       "      <td>-122.401459</td>\n",
       "      <td>{'type': 'Point', 'coordinates': [-122.4014585...</td>\n",
       "    </tr>\n",
       "    <tr>\n",
       "      <td>3</td>\n",
       "      <td>Kongregate</td>\n",
       "      <td>games_video</td>\n",
       "      <td>San Francisco</td>\n",
       "      <td>37.786942</td>\n",
       "      <td>-122.401245</td>\n",
       "      <td>{'type': 'Point', 'coordinates': [-122.401245,...</td>\n",
       "    </tr>\n",
       "    <tr>\n",
       "      <td>4</td>\n",
       "      <td>Playboox</td>\n",
       "      <td>software</td>\n",
       "      <td>San Francisco</td>\n",
       "      <td>37.787028</td>\n",
       "      <td>-122.400019</td>\n",
       "      <td>{'type': 'Point', 'coordinates': [-122.4000192...</td>\n",
       "    </tr>\n",
       "  </tbody>\n",
       "</table>\n",
       "</div>"
      ],
      "text/plain": [
       "               name category_code           city   Latitude   Longitude  \\\n",
       "0              ON24           web  San Francisco  37.785033 -122.400474   \n",
       "1  Neocase Software      software  San Francisco  37.785655 -122.398393   \n",
       "2            CITTIO      software  San Francisco  37.786761 -122.401459   \n",
       "3        Kongregate   games_video  San Francisco  37.786942 -122.401245   \n",
       "4          Playboox      software  San Francisco  37.787028 -122.400019   \n",
       "\n",
       "                                            position  \n",
       "0  {'type': 'Point', 'coordinates': [-122.4004738...  \n",
       "1  {'type': 'Point', 'coordinates': [-122.398393,...  \n",
       "2  {'type': 'Point', 'coordinates': [-122.4014585...  \n",
       "3  {'type': 'Point', 'coordinates': [-122.401245,...  \n",
       "4  {'type': 'Point', 'coordinates': [-122.4000192...  "
      ]
     },
     "metadata": {},
     "output_type": "display_data"
    },
    {
     "name": "stdout",
     "output_type": "stream",
     "text": [
      "(139, 6)\n"
     ]
    }
   ],
   "source": [
    "final_location = final_location.drop(\"_id\", axis=1)\n",
    "final_location = final_location.rename(columns={\"lat\":\"Latitude\",\"long\":\"Longitude\"})\n",
    "display(final_location.head())\n",
    "print(final_location.shape)"
   ]
  },
  {
   "cell_type": "code",
   "execution_count": 52,
   "metadata": {},
   "outputs": [],
   "source": [
    "final_location.to_json('../data/final_location.json', orient=\"records\")"
   ]
  }
 ],
 "metadata": {
  "kernelspec": {
   "display_name": "Python 3",
   "language": "python",
   "name": "python3"
  },
  "language_info": {
   "codemirror_mode": {
    "name": "ipython",
    "version": 3
   },
   "file_extension": ".py",
   "mimetype": "text/x-python",
   "name": "python",
   "nbconvert_exporter": "python",
   "pygments_lexer": "ipython3",
   "version": "3.7.4"
  }
 },
 "nbformat": 4,
 "nbformat_minor": 2
}
