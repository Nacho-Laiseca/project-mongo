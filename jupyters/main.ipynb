{
 "cells": [
  {
   "cell_type": "code",
   "execution_count": 15,
   "metadata": {},
   "outputs": [],
   "source": [
    "from pymongo import MongoClient\n",
    "import pandas as pd"
   ]
  },
  {
   "cell_type": "code",
   "execution_count": 33,
   "metadata": {},
   "outputs": [],
   "source": [
    "client = MongoClient(\"mongodb://localhost:27017/\")\n",
    "db = client.datamad0819 "
   ]
  },
  {
   "cell_type": "code",
   "execution_count": 34,
   "metadata": {},
   "outputs": [
    {
     "name": "stdout",
     "output_type": "stream",
     "text": [
      "(2161, 3)\n"
     ]
    }
   ],
   "source": [
    "query = {\"$and\":[{\"total_money_raised\": {\"$regex\" : \"[BM]\" }},{\"total_money_raised\": {\"$regex\" : \"[€$]\" }},\n",
    "                 {\"$or\":[{\"category_code\":\"software\"},{\"category_code\":\"web\"},\n",
    "                     {\"category_code\":\"mobile\"},{\"category_code\":\"games_video\"},\n",
    "                     {\"category_code\":\"advertising\"},{\"category_code\":\"design\"},\n",
    "                     {\"category_code\":\"photo_video\"},{\"category_code\":\"ecommerce\"}]}]}\n",
    "\n",
    "project = {\"_id\":0, \"name\":1,\"offices.city\":1,\"offices.latitude\":1,\"offices.longitude\":1,\"category_code\":1}\n",
    "\n",
    "companies = db.companies.find(query,project)\n",
    "data = pd.DataFrame(companies)\n",
    "data.head()\n",
    "print(data.shape)"
   ]
  },
  {
   "cell_type": "code",
   "execution_count": 35,
   "metadata": {},
   "outputs": [
    {
     "name": "stdout",
     "output_type": "stream",
     "text": [
      "(2836, 5)\n"
     ]
    }
   ],
   "source": [
    "def findOffices(df):\n",
    "    names = []\n",
    "    category_codes = []\n",
    "    cities = []\n",
    "    lats = []\n",
    "    longs = []\n",
    "    for name,category_code,office in zip(df[\"name\"],df[\"category_code\"],df[\"offices\"]):\n",
    "        if len(office) >0:\n",
    "            for x in range(len(office)):\n",
    "                names.append(name)\n",
    "                category_codes.append(category_code)\n",
    "                cities.append(office[x]['city'])\n",
    "                lats.append(office[x]['latitude'])\n",
    "                longs.append(office[x]['longitude'])\n",
    "    \n",
    "    dict_companies = {\"name\":names,\"category_code\":category_codes,\"city\":cities,\"lat\":lats,\"long\":longs}\n",
    "    return pd.DataFrame(dict_companies)\n",
    "\n",
    "data_companies = findOffices(data)\n",
    "data_companies.head()\n",
    "print(data_companies.shape)"
   ]
  },
  {
   "cell_type": "code",
   "execution_count": 36,
   "metadata": {},
   "outputs": [
    {
     "data": {
      "text/html": [
       "<div>\n",
       "<style scoped>\n",
       "    .dataframe tbody tr th:only-of-type {\n",
       "        vertical-align: middle;\n",
       "    }\n",
       "\n",
       "    .dataframe tbody tr th {\n",
       "        vertical-align: top;\n",
       "    }\n",
       "\n",
       "    .dataframe thead th {\n",
       "        text-align: right;\n",
       "    }\n",
       "</style>\n",
       "<table border=\"1\" class=\"dataframe\">\n",
       "  <thead>\n",
       "    <tr style=\"text-align: right;\">\n",
       "      <th></th>\n",
       "      <th>name</th>\n",
       "      <th>category_code</th>\n",
       "      <th>city</th>\n",
       "      <th>lat</th>\n",
       "      <th>long</th>\n",
       "      <th>position</th>\n",
       "    </tr>\n",
       "  </thead>\n",
       "  <tbody>\n",
       "    <tr>\n",
       "      <td>0</td>\n",
       "      <td>Wetpaint</td>\n",
       "      <td>web</td>\n",
       "      <td>Seattle</td>\n",
       "      <td>47.603122</td>\n",
       "      <td>-122.333253</td>\n",
       "      <td>{'type': 'Point', 'coordinates': [-122.333253,...</td>\n",
       "    </tr>\n",
       "    <tr>\n",
       "      <td>1</td>\n",
       "      <td>Wetpaint</td>\n",
       "      <td>web</td>\n",
       "      <td>New York</td>\n",
       "      <td>40.723731</td>\n",
       "      <td>-73.996431</td>\n",
       "      <td>{'type': 'Point', 'coordinates': [-73.9964312,...</td>\n",
       "    </tr>\n",
       "    <tr>\n",
       "      <td>2</td>\n",
       "      <td>Geni</td>\n",
       "      <td>web</td>\n",
       "      <td>West Hollywood</td>\n",
       "      <td>34.090368</td>\n",
       "      <td>-118.393064</td>\n",
       "      <td>{'type': 'Point', 'coordinates': [-118.393064,...</td>\n",
       "    </tr>\n",
       "    <tr>\n",
       "      <td>3</td>\n",
       "      <td>StumbleUpon</td>\n",
       "      <td>web</td>\n",
       "      <td>San Francisco</td>\n",
       "      <td>37.775196</td>\n",
       "      <td>-122.419204</td>\n",
       "      <td>{'type': 'Point', 'coordinates': [-122.419204,...</td>\n",
       "    </tr>\n",
       "    <tr>\n",
       "      <td>5</td>\n",
       "      <td>Gizmoz</td>\n",
       "      <td>web</td>\n",
       "      <td>Menlo Park</td>\n",
       "      <td>37.484130</td>\n",
       "      <td>-122.169472</td>\n",
       "      <td>{'type': 'Point', 'coordinates': [-122.169472,...</td>\n",
       "    </tr>\n",
       "  </tbody>\n",
       "</table>\n",
       "</div>"
      ],
      "text/plain": [
       "          name category_code            city        lat        long  \\\n",
       "0     Wetpaint           web         Seattle  47.603122 -122.333253   \n",
       "1     Wetpaint           web        New York  40.723731  -73.996431   \n",
       "2         Geni           web  West Hollywood  34.090368 -118.393064   \n",
       "3  StumbleUpon           web   San Francisco  37.775196 -122.419204   \n",
       "5       Gizmoz           web      Menlo Park  37.484130 -122.169472   \n",
       "\n",
       "                                            position  \n",
       "0  {'type': 'Point', 'coordinates': [-122.333253,...  \n",
       "1  {'type': 'Point', 'coordinates': [-73.9964312,...  \n",
       "2  {'type': 'Point', 'coordinates': [-118.393064,...  \n",
       "3  {'type': 'Point', 'coordinates': [-122.419204,...  \n",
       "5  {'type': 'Point', 'coordinates': [-122.169472,...  "
      ]
     },
     "metadata": {},
     "output_type": "display_data"
    },
    {
     "name": "stdout",
     "output_type": "stream",
     "text": [
      "(1846, 6)\n"
     ]
    }
   ],
   "source": [
    "def createGeoJson(office):\n",
    "    return {\n",
    "        \"type\":\"Point\",\n",
    "        \"coordinates\":[office[\"long\"],office[\"lat\"]]\n",
    "    }\n",
    "\n",
    "\n",
    "data_companies['position'] = data_companies.apply(createGeoJson, axis=1)\n",
    "data_companies = data_companies.dropna()\n",
    "display(data_companies.head())\n",
    "print(data_companies.shape)"
   ]
  },
  {
   "cell_type": "code",
   "execution_count": 37,
   "metadata": {},
   "outputs": [],
   "source": [
    "def drop_less_10( df, column):\n",
    "    keys = df[column].value_counts().index\n",
    "    values = df[column].value_counts().values\n",
    "    countries = {keys[i]: values[i] for i in range(len(keys))}\n",
    "    drop_countries = []\n",
    "\n",
    "    for i in countries:\n",
    "        if countries[i] < 10:\n",
    "            drop_countries.append(i)\n",
    "        else:\n",
    "            pass\n",
    " \n",
    "    for c in drop_countries:\n",
    "        df = df[df[column] != c]\n",
    "\n",
    "    return df\n",
    "\n",
    "data_companies = drop_less_10(data_companies,\"city\")"
   ]
  },
  {
   "cell_type": "code",
   "execution_count": 38,
   "metadata": {},
   "outputs": [],
   "source": [
    "data_companies = data_companies[data_companies[\"city\"] != '']"
   ]
  },
  {
   "cell_type": "code",
   "execution_count": 44,
   "metadata": {},
   "outputs": [],
   "source": [
    "data_companies.to_json('../data/offices.json', orient=\"records\")"
   ]
  },
  {
   "cell_type": "code",
   "execution_count": null,
   "metadata": {},
   "outputs": [],
   "source": [
    "# mongoimport --db datamad0819 --collection offices --jsonArray ../data/offices.json"
   ]
  }
 ],
 "metadata": {
  "kernelspec": {
   "display_name": "Python 3",
   "language": "python",
   "name": "python3"
  },
  "language_info": {
   "codemirror_mode": {
    "name": "ipython",
    "version": 3
   },
   "file_extension": ".py",
   "mimetype": "text/x-python",
   "name": "python",
   "nbconvert_exporter": "python",
   "pygments_lexer": "ipython3",
   "version": "3.7.4"
  }
 },
 "nbformat": 4,
 "nbformat_minor": 2
}
